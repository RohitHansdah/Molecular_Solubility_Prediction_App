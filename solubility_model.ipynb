{
 "cells": [
  {
   "cell_type": "markdown",
   "metadata": {},
   "source": [
    "# Import Libraries"
   ]
  },
  {
   "cell_type": "code",
   "execution_count": 1,
   "metadata": {},
   "outputs": [],
   "source": [
    "import pickle\n",
    "import pandas as pd\n",
    "import numpy as np\n",
    "import matplotlib.pyplot as plt\n",
    "from sklearn.preprocessing import StandardScaler\n",
    "from sklearn.model_selection import train_test_split\n",
    "from sklearn.svm import SVR\n",
    "from sklearn.metrics import mean_squared_error, r2_score"
   ]
  },
  {
   "cell_type": "markdown",
   "metadata": {},
   "source": [
    "# Importing the Solubility Dataset"
   ]
  },
  {
   "cell_type": "code",
   "execution_count": 2,
   "metadata": {},
   "outputs": [
    {
     "data": {
      "text/html": [
       "<div>\n",
       "<style scoped>\n",
       "    .dataframe tbody tr th:only-of-type {\n",
       "        vertical-align: middle;\n",
       "    }\n",
       "\n",
       "    .dataframe tbody tr th {\n",
       "        vertical-align: top;\n",
       "    }\n",
       "\n",
       "    .dataframe thead th {\n",
       "        text-align: right;\n",
       "    }\n",
       "</style>\n",
       "<table border=\"1\" class=\"dataframe\">\n",
       "  <thead>\n",
       "    <tr style=\"text-align: right;\">\n",
       "      <th></th>\n",
       "      <th>MolLogP</th>\n",
       "      <th>MolWt</th>\n",
       "      <th>NumRotatableBonds</th>\n",
       "      <th>AromaticProportion</th>\n",
       "      <th>logS</th>\n",
       "    </tr>\n",
       "  </thead>\n",
       "  <tbody>\n",
       "    <tr>\n",
       "      <th>0</th>\n",
       "      <td>2.59540</td>\n",
       "      <td>167.850</td>\n",
       "      <td>0.0</td>\n",
       "      <td>0.000000</td>\n",
       "      <td>-2.180</td>\n",
       "    </tr>\n",
       "    <tr>\n",
       "      <th>1</th>\n",
       "      <td>2.37650</td>\n",
       "      <td>133.405</td>\n",
       "      <td>0.0</td>\n",
       "      <td>0.000000</td>\n",
       "      <td>-2.000</td>\n",
       "    </tr>\n",
       "    <tr>\n",
       "      <th>2</th>\n",
       "      <td>2.59380</td>\n",
       "      <td>167.850</td>\n",
       "      <td>1.0</td>\n",
       "      <td>0.000000</td>\n",
       "      <td>-1.740</td>\n",
       "    </tr>\n",
       "    <tr>\n",
       "      <th>3</th>\n",
       "      <td>2.02890</td>\n",
       "      <td>133.405</td>\n",
       "      <td>1.0</td>\n",
       "      <td>0.000000</td>\n",
       "      <td>-1.480</td>\n",
       "    </tr>\n",
       "    <tr>\n",
       "      <th>4</th>\n",
       "      <td>2.91890</td>\n",
       "      <td>187.375</td>\n",
       "      <td>1.0</td>\n",
       "      <td>0.000000</td>\n",
       "      <td>-3.040</td>\n",
       "    </tr>\n",
       "    <tr>\n",
       "      <th>...</th>\n",
       "      <td>...</td>\n",
       "      <td>...</td>\n",
       "      <td>...</td>\n",
       "      <td>...</td>\n",
       "      <td>...</td>\n",
       "    </tr>\n",
       "    <tr>\n",
       "      <th>1139</th>\n",
       "      <td>1.98820</td>\n",
       "      <td>287.343</td>\n",
       "      <td>8.0</td>\n",
       "      <td>0.000000</td>\n",
       "      <td>1.144</td>\n",
       "    </tr>\n",
       "    <tr>\n",
       "      <th>1140</th>\n",
       "      <td>3.42130</td>\n",
       "      <td>286.114</td>\n",
       "      <td>2.0</td>\n",
       "      <td>0.333333</td>\n",
       "      <td>-4.925</td>\n",
       "    </tr>\n",
       "    <tr>\n",
       "      <th>1141</th>\n",
       "      <td>3.60960</td>\n",
       "      <td>308.333</td>\n",
       "      <td>4.0</td>\n",
       "      <td>0.695652</td>\n",
       "      <td>-3.893</td>\n",
       "    </tr>\n",
       "    <tr>\n",
       "      <th>1142</th>\n",
       "      <td>2.56214</td>\n",
       "      <td>354.815</td>\n",
       "      <td>3.0</td>\n",
       "      <td>0.521739</td>\n",
       "      <td>-3.790</td>\n",
       "    </tr>\n",
       "    <tr>\n",
       "      <th>1143</th>\n",
       "      <td>2.02164</td>\n",
       "      <td>179.219</td>\n",
       "      <td>1.0</td>\n",
       "      <td>0.461538</td>\n",
       "      <td>-2.581</td>\n",
       "    </tr>\n",
       "  </tbody>\n",
       "</table>\n",
       "<p>1144 rows × 5 columns</p>\n",
       "</div>"
      ],
      "text/plain": [
       "      MolLogP    MolWt  NumRotatableBonds  AromaticProportion   logS\n",
       "0     2.59540  167.850                0.0            0.000000 -2.180\n",
       "1     2.37650  133.405                0.0            0.000000 -2.000\n",
       "2     2.59380  167.850                1.0            0.000000 -1.740\n",
       "3     2.02890  133.405                1.0            0.000000 -1.480\n",
       "4     2.91890  187.375                1.0            0.000000 -3.040\n",
       "...       ...      ...                ...                 ...    ...\n",
       "1139  1.98820  287.343                8.0            0.000000  1.144\n",
       "1140  3.42130  286.114                2.0            0.333333 -4.925\n",
       "1141  3.60960  308.333                4.0            0.695652 -3.893\n",
       "1142  2.56214  354.815                3.0            0.521739 -3.790\n",
       "1143  2.02164  179.219                1.0            0.461538 -2.581\n",
       "\n",
       "[1144 rows x 5 columns]"
      ]
     },
     "execution_count": 2,
     "metadata": {},
     "output_type": "execute_result"
    }
   ],
   "source": [
    "url='https://raw.githubusercontent.com/dataprofessor/data/master/delaney_solubility_with_descriptors.csv'\n",
    "df = pd.read_csv(url)\n",
    "df"
   ]
  },
  {
   "cell_type": "code",
   "execution_count": 3,
   "metadata": {},
   "outputs": [
    {
     "data": {
      "text/html": [
       "<div>\n",
       "<style scoped>\n",
       "    .dataframe tbody tr th:only-of-type {\n",
       "        vertical-align: middle;\n",
       "    }\n",
       "\n",
       "    .dataframe tbody tr th {\n",
       "        vertical-align: top;\n",
       "    }\n",
       "\n",
       "    .dataframe thead th {\n",
       "        text-align: right;\n",
       "    }\n",
       "</style>\n",
       "<table border=\"1\" class=\"dataframe\">\n",
       "  <thead>\n",
       "    <tr style=\"text-align: right;\">\n",
       "      <th></th>\n",
       "      <th>MolLogP</th>\n",
       "      <th>MolWt</th>\n",
       "      <th>NumRotatableBonds</th>\n",
       "      <th>AromaticProportion</th>\n",
       "      <th>logS</th>\n",
       "    </tr>\n",
       "  </thead>\n",
       "  <tbody>\n",
       "    <tr>\n",
       "      <th>count</th>\n",
       "      <td>1144.000000</td>\n",
       "      <td>1144.000000</td>\n",
       "      <td>1144.000000</td>\n",
       "      <td>1144.000000</td>\n",
       "      <td>1144.000000</td>\n",
       "    </tr>\n",
       "    <tr>\n",
       "      <th>mean</th>\n",
       "      <td>2.449133</td>\n",
       "      <td>204.631675</td>\n",
       "      <td>2.173951</td>\n",
       "      <td>0.364932</td>\n",
       "      <td>-3.057997</td>\n",
       "    </tr>\n",
       "    <tr>\n",
       "      <th>std</th>\n",
       "      <td>1.866003</td>\n",
       "      <td>102.620500</td>\n",
       "      <td>2.627398</td>\n",
       "      <td>0.343305</td>\n",
       "      <td>2.096502</td>\n",
       "    </tr>\n",
       "    <tr>\n",
       "      <th>min</th>\n",
       "      <td>-7.571400</td>\n",
       "      <td>16.043000</td>\n",
       "      <td>0.000000</td>\n",
       "      <td>0.000000</td>\n",
       "      <td>-11.600000</td>\n",
       "    </tr>\n",
       "    <tr>\n",
       "      <th>25%</th>\n",
       "      <td>1.414900</td>\n",
       "      <td>122.126000</td>\n",
       "      <td>0.000000</td>\n",
       "      <td>0.000000</td>\n",
       "      <td>-4.332250</td>\n",
       "    </tr>\n",
       "    <tr>\n",
       "      <th>50%</th>\n",
       "      <td>2.340300</td>\n",
       "      <td>183.594500</td>\n",
       "      <td>1.000000</td>\n",
       "      <td>0.375000</td>\n",
       "      <td>-2.870500</td>\n",
       "    </tr>\n",
       "    <tr>\n",
       "      <th>75%</th>\n",
       "      <td>3.406475</td>\n",
       "      <td>270.715750</td>\n",
       "      <td>3.000000</td>\n",
       "      <td>0.666667</td>\n",
       "      <td>-1.600000</td>\n",
       "    </tr>\n",
       "    <tr>\n",
       "      <th>max</th>\n",
       "      <td>10.388600</td>\n",
       "      <td>780.949000</td>\n",
       "      <td>23.000000</td>\n",
       "      <td>1.000000</td>\n",
       "      <td>1.580000</td>\n",
       "    </tr>\n",
       "  </tbody>\n",
       "</table>\n",
       "</div>"
      ],
      "text/plain": [
       "           MolLogP        MolWt  NumRotatableBonds  AromaticProportion  \\\n",
       "count  1144.000000  1144.000000        1144.000000         1144.000000   \n",
       "mean      2.449133   204.631675           2.173951            0.364932   \n",
       "std       1.866003   102.620500           2.627398            0.343305   \n",
       "min      -7.571400    16.043000           0.000000            0.000000   \n",
       "25%       1.414900   122.126000           0.000000            0.000000   \n",
       "50%       2.340300   183.594500           1.000000            0.375000   \n",
       "75%       3.406475   270.715750           3.000000            0.666667   \n",
       "max      10.388600   780.949000          23.000000            1.000000   \n",
       "\n",
       "              logS  \n",
       "count  1144.000000  \n",
       "mean     -3.057997  \n",
       "std       2.096502  \n",
       "min     -11.600000  \n",
       "25%      -4.332250  \n",
       "50%      -2.870500  \n",
       "75%      -1.600000  \n",
       "max       1.580000  "
      ]
     },
     "execution_count": 3,
     "metadata": {},
     "output_type": "execute_result"
    }
   ],
   "source": [
    "df.describe()"
   ]
  },
  {
   "cell_type": "markdown",
   "metadata": {},
   "source": [
    "# Dividing the Data into Dependent and Independent Features"
   ]
  },
  {
   "cell_type": "code",
   "execution_count": 4,
   "metadata": {},
   "outputs": [],
   "source": [
    "X= df.iloc[:,:-1].values\n",
    "y= df.iloc[:,-1].values"
   ]
  },
  {
   "cell_type": "code",
   "execution_count": 5,
   "metadata": {},
   "outputs": [
    {
     "name": "stdout",
     "output_type": "stream",
     "text": [
      "[[  2.5954     167.85         0.           0.        ]\n",
      " [  2.3765     133.405        0.           0.        ]\n",
      " [  2.5938     167.85         1.           0.        ]\n",
      " ...\n",
      " [  3.6096     308.333        4.           0.69565217]\n",
      " [  2.56214    354.815        3.           0.52173913]\n",
      " [  2.02164    179.219        1.           0.46153846]]\n"
     ]
    }
   ],
   "source": [
    "print(X)"
   ]
  },
  {
   "cell_type": "code",
   "execution_count": 6,
   "metadata": {},
   "outputs": [
    {
     "name": "stdout",
     "output_type": "stream",
     "text": [
      "[-2.18  -2.    -1.74  ... -3.893 -3.79  -2.581]\n"
     ]
    }
   ],
   "source": [
    "print(y)"
   ]
  },
  {
   "cell_type": "markdown",
   "metadata": {},
   "source": [
    "# Data Preprocessing"
   ]
  },
  {
   "cell_type": "markdown",
   "metadata": {},
   "source": [
    "# Checking for missing Data"
   ]
  },
  {
   "cell_type": "code",
   "execution_count": 7,
   "metadata": {},
   "outputs": [
    {
     "data": {
      "text/plain": [
       "MolLogP               0\n",
       "MolWt                 0\n",
       "NumRotatableBonds     0\n",
       "AromaticProportion    0\n",
       "logS                  0\n",
       "dtype: int64"
      ]
     },
     "execution_count": 7,
     "metadata": {},
     "output_type": "execute_result"
    }
   ],
   "source": [
    "df.isnull().sum()"
   ]
  },
  {
   "cell_type": "markdown",
   "metadata": {},
   "source": [
    "# Exploratory Data Analysis"
   ]
  },
  {
   "cell_type": "markdown",
   "metadata": {},
   "source": [
    "# Feature Scaling"
   ]
  },
  {
   "cell_type": "code",
   "execution_count": 8,
   "metadata": {},
   "outputs": [],
   "source": [
    "scaler = StandardScaler()\n",
    "X = scaler.fit_transform(X)"
   ]
  },
  {
   "cell_type": "markdown",
   "metadata": {},
   "source": [
    "# Splitting Data into Training and Test Dataset"
   ]
  },
  {
   "cell_type": "code",
   "execution_count": 9,
   "metadata": {},
   "outputs": [],
   "source": [
    "X_train, X_test, y_train, y_test = train_test_split(X, y, test_size = 0.2, random_state = 42)"
   ]
  },
  {
   "cell_type": "markdown",
   "metadata": {},
   "source": [
    "# Training Data using SVR"
   ]
  },
  {
   "cell_type": "code",
   "execution_count": 10,
   "metadata": {},
   "outputs": [
    {
     "data": {
      "text/plain": [
       "SVR()"
      ]
     },
     "execution_count": 10,
     "metadata": {},
     "output_type": "execute_result"
    }
   ],
   "source": [
    "model = SVR(kernel = 'rbf')\n",
    "model.fit(X_train,y_train)"
   ]
  },
  {
   "cell_type": "markdown",
   "metadata": {},
   "source": [
    "# Predictions on Test Dataset"
   ]
  },
  {
   "cell_type": "code",
   "execution_count": 11,
   "metadata": {},
   "outputs": [
    {
     "data": {
      "text/plain": [
       "array([-1.21173614, -5.77272243, -4.9495656 , -3.41927456, -0.99694782,\n",
       "       -5.53511887, -0.87120249, -3.71527878, -3.66275474, -3.82651983,\n",
       "       -1.36700644, -1.17330452, -3.84770412, -3.05623031, -3.47409924,\n",
       "       -1.98482194, -2.8188484 , -4.18412838, -0.99680575, -2.3188574 ,\n",
       "       -3.42664799, -0.87377076, -4.17075536, -3.36623089, -0.39663519,\n",
       "       -0.56714013, -2.23964791, -5.71120227, -3.16523865, -4.00716734,\n",
       "       -2.57055997, -3.04973612, -4.322773  , -1.47451715, -2.09281696,\n",
       "       -7.22886152, -0.45811421, -1.93610602, -1.88174102, -1.77993849,\n",
       "       -1.47451715, -6.80454489, -1.26199747, -1.12441802, -2.01329091,\n",
       "       -3.82651983, -4.39449041, -1.51018134, -0.00801905, -1.44088423,\n",
       "       -3.16758284, -2.25339667, -1.98502411, -2.62204637, -6.05882133,\n",
       "       -5.60584073, -3.70821383, -3.09135386, -0.8248672 , -1.80103128,\n",
       "       -4.33258401, -4.4816966 , -1.01408599, -1.45755726, -2.28135052,\n",
       "       -1.56975159, -1.49911194, -7.00516592, -1.51957218, -2.17538425,\n",
       "       -5.65803022, -3.70920669, -2.77379026, -4.93870724, -2.5404332 ,\n",
       "       -1.37112392, -1.62201527, -2.82949665, -4.72479214, -5.08978503,\n",
       "       -0.05105999, -3.55210397, -5.55272508, -1.89533505, -3.19817932,\n",
       "       -1.59227074, -5.03306428, -0.10347065, -1.4525475 , -4.3027529 ,\n",
       "       -6.36433496, -0.79062652, -1.6848108 , -2.63281405, -1.43633491,\n",
       "       -6.42417964, -3.55512458, -1.79086462, -3.01913479, -5.13972413,\n",
       "       -2.84187838, -4.82685572, -1.06192308, -2.04435737, -4.51540138,\n",
       "       -7.68049952, -5.27896422, -0.85513048, -6.86022612, -3.56815056,\n",
       "       -2.68819989, -5.05791114, -4.98045235, -6.28028876, -2.75167791,\n",
       "       -1.32294023, -2.18064323, -3.07981081, -3.32642673, -0.15495281,\n",
       "       -0.76869425, -3.02752293, -4.28534599, -5.09986035, -2.52698817,\n",
       "       -2.83863038, -1.64169382, -0.81637441, -4.11184018, -3.86128536,\n",
       "       -0.94346185, -2.32626832, -3.16763115, -0.81473777, -3.24505733,\n",
       "       -6.29671753, -5.10745891, -1.31029572, -0.99680575, -2.18774142,\n",
       "       -3.55262661, -3.571083  , -2.38280714, -1.794592  , -4.322773  ,\n",
       "       -7.30010583, -3.98406307, -4.0766704 , -7.57833886, -2.97285914,\n",
       "       -1.04509875, -1.51718029, -0.76371483, -3.03227809, -7.30010583,\n",
       "       -4.22758219, -1.29756875, -3.61460111, -0.57820608, -4.99797208,\n",
       "       -6.30373316, -0.49290736, -3.71604172, -2.79052503, -4.91693597,\n",
       "       -6.06458632, -4.4631561 , -1.93610602, -2.60453058, -1.07316524,\n",
       "       -4.04262626, -0.99680575, -0.48985483, -3.77507526, -2.81543722,\n",
       "       -6.08810276, -2.54288532, -1.73826826, -4.74171109, -3.40432254,\n",
       "       -4.41462026, -2.54288532, -1.41278303, -1.262171  , -4.9829576 ,\n",
       "       -4.56872815, -2.06891854, -0.34208382, -4.81950039, -0.68012042,\n",
       "       -6.86022612, -3.36644726, -1.44088423, -0.97832975, -2.78574396,\n",
       "       -2.92374495, -4.49975252, -0.99694782,  0.10379975, -1.9157987 ,\n",
       "       -3.94654887, -1.24235307, -1.37796852, -3.48710381, -2.88639464,\n",
       "       -1.73999844, -1.14688655, -4.19053688, -2.66909509, -1.24562963,\n",
       "       -1.91827029, -2.54823992, -3.33586641, -4.00165573, -4.37357304,\n",
       "       -2.54288532, -2.88636987, -3.04321948, -3.82651983, -3.45360169,\n",
       "       -2.03134265, -1.90631976, -6.30373316, -0.74824437,  0.53644067,\n",
       "       -1.82444335, -2.86266342, -3.91293677, -1.054538  ])"
      ]
     },
     "execution_count": 11,
     "metadata": {},
     "output_type": "execute_result"
    }
   ],
   "source": [
    "y_pred=model.predict(X_test)\n",
    "y_pred"
   ]
  },
  {
   "cell_type": "markdown",
   "metadata": {},
   "source": [
    "# Model Performance"
   ]
  },
  {
   "cell_type": "code",
   "execution_count": 12,
   "metadata": {},
   "outputs": [
    {
     "name": "stdout",
     "output_type": "stream",
     "text": [
      "Mean squared error (MSE): 0.62296474714046\n",
      "R Squared: 0.8569391061577389\n"
     ]
    }
   ],
   "source": [
    "print('Mean squared error (MSE): '+ str(mean_squared_error(y_test, y_pred)))\n",
    "print('R Squared: ' + str(r2_score(y_test, y_pred)))"
   ]
  },
  {
   "cell_type": "markdown",
   "metadata": {},
   "source": [
    "# Data Visualization"
   ]
  },
  {
   "cell_type": "code",
   "execution_count": 13,
   "metadata": {},
   "outputs": [
    {
     "data": {
      "image/png": "[encoded data removed]",
      "text/plain": [
       "<Figure size 360x360 with 1 Axes>"
      ]
     },
     "metadata": {
      "needs_background": "light"
     },
     "output_type": "display_data"
    }
   ],
   "source": [
    "plt.figure(figsize=(5,5))\n",
    "plt.scatter(x=y_test,y=y_pred,c=\"#7CAE00\",alpha=0.3)\n",
    "plt.ylabel('Predicted LogS')\n",
    "plt.xlabel('Experimental LogS')\n",
    "plt.show()"
   ]
  },
  {
   "cell_type": "markdown",
   "metadata": {},
   "source": [
    "# Save the Model"
   ]
  },
  {
   "cell_type": "code",
   "execution_count": 14,
   "metadata": {},
   "outputs": [],
   "source": [
    "pickle.dump(model,open('solubility_model.pkl','wb'))"
   ]
  }
 ],
 "metadata": {
  "kernelspec": {
   "display_name": "Python 3",
   "language": "python",
   "name": "python3"
  },
  "language_info": {
   "codemirror_mode": {
    "name": "ipython",
    "version": 3
   },
   "file_extension": ".py",
   "mimetype": "text/x-python",
   "name": "python",
   "nbconvert_exporter": "python",
   "pygments_lexer": "ipython3",
   "version": "3.6.8"
  }
 },
 "nbformat": 4,
 "nbformat_minor": 4
}
