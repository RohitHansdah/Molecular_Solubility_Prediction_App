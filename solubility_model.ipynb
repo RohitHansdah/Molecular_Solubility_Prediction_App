{
 "cells": [
  {
   "cell_type": "markdown",
   "metadata": {},
   "source": [
    "# Import Libraries"
   ]
  },
  {
   "cell_type": "code",
   "execution_count": 1,
   "metadata": {},
   "outputs": [],
   "source": [
    "import pickle\n",
    "import pandas as pd\n",
    "import numpy as np\n",
    "import matplotlib.pyplot as plt\n",
    "from sklearn.preprocessing import StandardScaler\n",
    "from sklearn.model_selection import train_test_split\n",
    "from sklearn.linear_model import LinearRegression\n",
    "from sklearn.metrics import mean_squared_error, r2_score"
   ]
  },
  {
   "cell_type": "markdown",
   "metadata": {},
   "source": [
    "# Importing the Solubility Dataset"
   ]
  },
  {
   "cell_type": "code",
   "execution_count": 2,
   "metadata": {},
   "outputs": [
    {
     "data": {
      "text/html": [
       "<div>\n",
       "<style scoped>\n",
       "    .dataframe tbody tr th:only-of-type {\n",
       "        vertical-align: middle;\n",
       "    }\n",
       "\n",
       "    .dataframe tbody tr th {\n",
       "        vertical-align: top;\n",
       "    }\n",
       "\n",
       "    .dataframe thead th {\n",
       "        text-align: right;\n",
       "    }\n",
       "</style>\n",
       "<table border=\"1\" class=\"dataframe\">\n",
       "  <thead>\n",
       "    <tr style=\"text-align: right;\">\n",
       "      <th></th>\n",
       "      <th>MolLogP</th>\n",
       "      <th>MolWt</th>\n",
       "      <th>NumRotatableBonds</th>\n",
       "      <th>AromaticProportion</th>\n",
       "      <th>logS</th>\n",
       "    </tr>\n",
       "  </thead>\n",
       "  <tbody>\n",
       "    <tr>\n",
       "      <th>0</th>\n",
       "      <td>2.59540</td>\n",
       "      <td>167.850</td>\n",
       "      <td>0.0</td>\n",
       "      <td>0.000000</td>\n",
       "      <td>-2.180</td>\n",
       "    </tr>\n",
       "    <tr>\n",
       "      <th>1</th>\n",
       "      <td>2.37650</td>\n",
       "      <td>133.405</td>\n",
       "      <td>0.0</td>\n",
       "      <td>0.000000</td>\n",
       "      <td>-2.000</td>\n",
       "    </tr>\n",
       "    <tr>\n",
       "      <th>2</th>\n",
       "      <td>2.59380</td>\n",
       "      <td>167.850</td>\n",
       "      <td>1.0</td>\n",
       "      <td>0.000000</td>\n",
       "      <td>-1.740</td>\n",
       "    </tr>\n",
       "    <tr>\n",
       "      <th>3</th>\n",
       "      <td>2.02890</td>\n",
       "      <td>133.405</td>\n",
       "      <td>1.0</td>\n",
       "      <td>0.000000</td>\n",
       "      <td>-1.480</td>\n",
       "    </tr>\n",
       "    <tr>\n",
       "      <th>4</th>\n",
       "      <td>2.91890</td>\n",
       "      <td>187.375</td>\n",
       "      <td>1.0</td>\n",
       "      <td>0.000000</td>\n",
       "      <td>-3.040</td>\n",
       "    </tr>\n",
       "    <tr>\n",
       "      <th>...</th>\n",
       "      <td>...</td>\n",
       "      <td>...</td>\n",
       "      <td>...</td>\n",
       "      <td>...</td>\n",
       "      <td>...</td>\n",
       "    </tr>\n",
       "    <tr>\n",
       "      <th>1139</th>\n",
       "      <td>1.98820</td>\n",
       "      <td>287.343</td>\n",
       "      <td>8.0</td>\n",
       "      <td>0.000000</td>\n",
       "      <td>1.144</td>\n",
       "    </tr>\n",
       "    <tr>\n",
       "      <th>1140</th>\n",
       "      <td>3.42130</td>\n",
       "      <td>286.114</td>\n",
       "      <td>2.0</td>\n",
       "      <td>0.333333</td>\n",
       "      <td>-4.925</td>\n",
       "    </tr>\n",
       "    <tr>\n",
       "      <th>1141</th>\n",
       "      <td>3.60960</td>\n",
       "      <td>308.333</td>\n",
       "      <td>4.0</td>\n",
       "      <td>0.695652</td>\n",
       "      <td>-3.893</td>\n",
       "    </tr>\n",
       "    <tr>\n",
       "      <th>1142</th>\n",
       "      <td>2.56214</td>\n",
       "      <td>354.815</td>\n",
       "      <td>3.0</td>\n",
       "      <td>0.521739</td>\n",
       "      <td>-3.790</td>\n",
       "    </tr>\n",
       "    <tr>\n",
       "      <th>1143</th>\n",
       "      <td>2.02164</td>\n",
       "      <td>179.219</td>\n",
       "      <td>1.0</td>\n",
       "      <td>0.461538</td>\n",
       "      <td>-2.581</td>\n",
       "    </tr>\n",
       "  </tbody>\n",
       "</table>\n",
       "<p>1144 rows × 5 columns</p>\n",
       "</div>"
      ],
      "text/plain": [
       "      MolLogP    MolWt  NumRotatableBonds  AromaticProportion   logS\n",
       "0     2.59540  167.850                0.0            0.000000 -2.180\n",
       "1     2.37650  133.405                0.0            0.000000 -2.000\n",
       "2     2.59380  167.850                1.0            0.000000 -1.740\n",
       "3     2.02890  133.405                1.0            0.000000 -1.480\n",
       "4     2.91890  187.375                1.0            0.000000 -3.040\n",
       "...       ...      ...                ...                 ...    ...\n",
       "1139  1.98820  287.343                8.0            0.000000  1.144\n",
       "1140  3.42130  286.114                2.0            0.333333 -4.925\n",
       "1141  3.60960  308.333                4.0            0.695652 -3.893\n",
       "1142  2.56214  354.815                3.0            0.521739 -3.790\n",
       "1143  2.02164  179.219                1.0            0.461538 -2.581\n",
       "\n",
       "[1144 rows x 5 columns]"
      ]
     },
     "execution_count": 2,
     "metadata": {},
     "output_type": "execute_result"
    }
   ],
   "source": [
    "url='https://raw.githubusercontent.com/dataprofessor/data/master/delaney_solubility_with_descriptors.csv'\n",
    "df = pd.read_csv(url)\n",
    "df"
   ]
  },
  {
   "cell_type": "code",
   "execution_count": 3,
   "metadata": {},
   "outputs": [
    {
     "data": {
      "text/html": [
       "<div>\n",
       "<style scoped>\n",
       "    .dataframe tbody tr th:only-of-type {\n",
       "        vertical-align: middle;\n",
       "    }\n",
       "\n",
       "    .dataframe tbody tr th {\n",
       "        vertical-align: top;\n",
       "    }\n",
       "\n",
       "    .dataframe thead th {\n",
       "        text-align: right;\n",
       "    }\n",
       "</style>\n",
       "<table border=\"1\" class=\"dataframe\">\n",
       "  <thead>\n",
       "    <tr style=\"text-align: right;\">\n",
       "      <th></th>\n",
       "      <th>MolLogP</th>\n",
       "      <th>MolWt</th>\n",
       "      <th>NumRotatableBonds</th>\n",
       "      <th>AromaticProportion</th>\n",
       "      <th>logS</th>\n",
       "    </tr>\n",
       "  </thead>\n",
       "  <tbody>\n",
       "    <tr>\n",
       "      <th>count</th>\n",
       "      <td>1144.000000</td>\n",
       "      <td>1144.000000</td>\n",
       "      <td>1144.000000</td>\n",
       "      <td>1144.000000</td>\n",
       "      <td>1144.000000</td>\n",
       "    </tr>\n",
       "    <tr>\n",
       "      <th>mean</th>\n",
       "      <td>2.449133</td>\n",
       "      <td>204.631675</td>\n",
       "      <td>2.173951</td>\n",
       "      <td>0.364932</td>\n",
       "      <td>-3.057997</td>\n",
       "    </tr>\n",
       "    <tr>\n",
       "      <th>std</th>\n",
       "      <td>1.866003</td>\n",
       "      <td>102.620500</td>\n",
       "      <td>2.627398</td>\n",
       "      <td>0.343305</td>\n",
       "      <td>2.096502</td>\n",
       "    </tr>\n",
       "    <tr>\n",
       "      <th>min</th>\n",
       "      <td>-7.571400</td>\n",
       "      <td>16.043000</td>\n",
       "      <td>0.000000</td>\n",
       "      <td>0.000000</td>\n",
       "      <td>-11.600000</td>\n",
       "    </tr>\n",
       "    <tr>\n",
       "      <th>25%</th>\n",
       "      <td>1.414900</td>\n",
       "      <td>122.126000</td>\n",
       "      <td>0.000000</td>\n",
       "      <td>0.000000</td>\n",
       "      <td>-4.332250</td>\n",
       "    </tr>\n",
       "    <tr>\n",
       "      <th>50%</th>\n",
       "      <td>2.340300</td>\n",
       "      <td>183.594500</td>\n",
       "      <td>1.000000</td>\n",
       "      <td>0.375000</td>\n",
       "      <td>-2.870500</td>\n",
       "    </tr>\n",
       "    <tr>\n",
       "      <th>75%</th>\n",
       "      <td>3.406475</td>\n",
       "      <td>270.715750</td>\n",
       "      <td>3.000000</td>\n",
       "      <td>0.666667</td>\n",
       "      <td>-1.600000</td>\n",
       "    </tr>\n",
       "    <tr>\n",
       "      <th>max</th>\n",
       "      <td>10.388600</td>\n",
       "      <td>780.949000</td>\n",
       "      <td>23.000000</td>\n",
       "      <td>1.000000</td>\n",
       "      <td>1.580000</td>\n",
       "    </tr>\n",
       "  </tbody>\n",
       "</table>\n",
       "</div>"
      ],
      "text/plain": [
       "           MolLogP        MolWt  NumRotatableBonds  AromaticProportion  \\\n",
       "count  1144.000000  1144.000000        1144.000000         1144.000000   \n",
       "mean      2.449133   204.631675           2.173951            0.364932   \n",
       "std       1.866003   102.620500           2.627398            0.343305   \n",
       "min      -7.571400    16.043000           0.000000            0.000000   \n",
       "25%       1.414900   122.126000           0.000000            0.000000   \n",
       "50%       2.340300   183.594500           1.000000            0.375000   \n",
       "75%       3.406475   270.715750           3.000000            0.666667   \n",
       "max      10.388600   780.949000          23.000000            1.000000   \n",
       "\n",
       "              logS  \n",
       "count  1144.000000  \n",
       "mean     -3.057997  \n",
       "std       2.096502  \n",
       "min     -11.600000  \n",
       "25%      -4.332250  \n",
       "50%      -2.870500  \n",
       "75%      -1.600000  \n",
       "max       1.580000  "
      ]
     },
     "execution_count": 3,
     "metadata": {},
     "output_type": "execute_result"
    }
   ],
   "source": [
    "df.describe()"
   ]
  },
  {
   "cell_type": "markdown",
   "metadata": {},
   "source": [
    "# Dividing the Data into Dependent and Independent Features"
   ]
  },
  {
   "cell_type": "code",
   "execution_count": 4,
   "metadata": {},
   "outputs": [],
   "source": [
    "X= df.iloc[:,:-1].values\n",
    "y= df.iloc[:,-1].values"
   ]
  },
  {
   "cell_type": "code",
   "execution_count": 5,
   "metadata": {},
   "outputs": [
    {
     "name": "stdout",
     "output_type": "stream",
     "text": [
      "[[  2.5954     167.85         0.           0.        ]\n",
      " [  2.3765     133.405        0.           0.        ]\n",
      " [  2.5938     167.85         1.           0.        ]\n",
      " ...\n",
      " [  3.6096     308.333        4.           0.69565217]\n",
      " [  2.56214    354.815        3.           0.52173913]\n",
      " [  2.02164    179.219        1.           0.46153846]]\n"
     ]
    }
   ],
   "source": [
    "print(X)"
   ]
  },
  {
   "cell_type": "code",
   "execution_count": 6,
   "metadata": {},
   "outputs": [
    {
     "name": "stdout",
     "output_type": "stream",
     "text": [
      "[-2.18  -2.    -1.74  ... -3.893 -3.79  -2.581]\n"
     ]
    }
   ],
   "source": [
    "print(y)"
   ]
  },
  {
   "cell_type": "markdown",
   "metadata": {},
   "source": [
    "# Data Preprocessing"
   ]
  },
  {
   "cell_type": "markdown",
   "metadata": {},
   "source": [
    "# Checking for missing Data"
   ]
  },
  {
   "cell_type": "code",
   "execution_count": 7,
   "metadata": {},
   "outputs": [
    {
     "data": {
      "text/plain": [
       "MolLogP               0\n",
       "MolWt                 0\n",
       "NumRotatableBonds     0\n",
       "AromaticProportion    0\n",
       "logS                  0\n",
       "dtype: int64"
      ]
     },
     "execution_count": 7,
     "metadata": {},
     "output_type": "execute_result"
    }
   ],
   "source": [
    "df.isnull().sum()"
   ]
  },
  {
   "cell_type": "markdown",
   "metadata": {},
   "source": [
    "# Exploratory Data Analysis"
   ]
  },
  {
   "cell_type": "markdown",
   "metadata": {},
   "source": [
    "# Feature Scaling"
   ]
  },
  {
   "cell_type": "code",
   "execution_count": 8,
   "metadata": {},
   "outputs": [],
   "source": [
    "scaler = StandardScaler()\n",
    "X = scaler.fit_transform(X)\n",
    "y = scaler.fit_transform(y.reshape(len(y),1))"
   ]
  },
  {
   "cell_type": "markdown",
   "metadata": {},
   "source": [
    "# Splitting Data into Training and Test Dataset"
   ]
  },
  {
   "cell_type": "code",
   "execution_count": 9,
   "metadata": {},
   "outputs": [],
   "source": [
    "X_train, X_test, y_train, y_test = train_test_split(X, y, test_size = 0.2, random_state = 42)"
   ]
  },
  {
   "cell_type": "markdown",
   "metadata": {},
   "source": [
    "# Training Data using Random Forest Regressor"
   ]
  },
  {
   "cell_type": "code",
   "execution_count": 10,
   "metadata": {},
   "outputs": [
    {
     "data": {
      "text/plain": [
       "LinearRegression()"
      ]
     },
     "execution_count": 10,
     "metadata": {},
     "output_type": "execute_result"
    }
   ],
   "source": [
    "model = LinearRegression()\n",
    "model.fit(X_train, y_train)"
   ]
  },
  {
   "cell_type": "markdown",
   "metadata": {},
   "source": [
    "# Predictions on Test Dataset"
   ]
  },
  {
   "cell_type": "code",
   "execution_count": 11,
   "metadata": {},
   "outputs": [
    {
     "data": {
      "text/plain": [
       "array([[ 7.24773456e-01],\n",
       "       [-1.44345443e+00],\n",
       "       [-1.06211917e+00],\n",
       "       [-1.04726581e-01],\n",
       "       [ 6.46496234e-01],\n",
       "       [-1.22814355e+00],\n",
       "       [ 7.75726694e-01],\n",
       "       [ 1.49148771e-01],\n",
       "       [-1.78826904e-01],\n",
       "       [-3.49536691e-01],\n",
       "       [ 8.53773111e-01],\n",
       "       [ 7.20268747e-01],\n",
       "       [-3.17136525e-01],\n",
       "       [-9.62133003e-02],\n",
       "       [-3.36636268e-01],\n",
       "       [ 4.41319878e-01],\n",
       "       [ 5.03123102e-01],\n",
       "       [-8.35225524e-01],\n",
       "       [ 7.74088136e-01],\n",
       "       [ 1.16631871e-01],\n",
       "       [ 3.24155268e-01],\n",
       "       [ 7.66941439e-01],\n",
       "       [-3.11361661e-01],\n",
       "       [-1.71279578e-03],\n",
       "       [ 9.20723734e-01],\n",
       "       [ 9.29537416e-01],\n",
       "       [ 2.87427922e-01],\n",
       "       [-9.42883024e-01],\n",
       "       [-1.11129999e-01],\n",
       "       [-5.53699815e-01],\n",
       "       [ 2.86150876e-01],\n",
       "       [-1.62287969e-02],\n",
       "       [-4.00494551e-01],\n",
       "       [ 5.75453825e-01],\n",
       "       [ 4.20113805e-01],\n",
       "       [-1.41126394e+00],\n",
       "       [ 9.51075301e-01],\n",
       "       [ 3.37511762e-01],\n",
       "       [ 6.38321468e-01],\n",
       "       [ 7.64008565e-01],\n",
       "       [ 5.75453825e-01],\n",
       "       [-1.72361551e+00],\n",
       "       [ 8.68015262e-01],\n",
       "       [ 7.62478436e-01],\n",
       "       [ 6.71337568e-01],\n",
       "       [-3.49536691e-01],\n",
       "       [-8.00498964e-01],\n",
       "       [ 9.35015435e-01],\n",
       "       [ 1.12806247e+00],\n",
       "       [ 5.47587894e-01],\n",
       "       [-4.92526707e-02],\n",
       "       [ 3.39026929e-01],\n",
       "       [ 4.95419571e-01],\n",
       "       [ 2.59418232e-01],\n",
       "       [-1.90024735e+00],\n",
       "       [-1.05788672e+00],\n",
       "       [-5.40085195e-01],\n",
       "       [ 4.44923283e-02],\n",
       "       [ 6.30639324e-01],\n",
       "       [ 6.74805277e-01],\n",
       "       [-7.40055817e-01],\n",
       "       [-8.54658261e-01],\n",
       "       [ 1.36880037e+00],\n",
       "       [ 6.29703918e-01],\n",
       "       [ 6.77711727e-01],\n",
       "       [ 4.97153467e-01],\n",
       "       [ 7.60684243e-01],\n",
       "       [-2.18706379e+00],\n",
       "       [ 8.17344662e-01],\n",
       "       [ 3.70281463e-01],\n",
       "       [-7.41806764e-01],\n",
       "       [-2.98052296e-01],\n",
       "       [-7.85052453e-02],\n",
       "       [-1.00342418e+00],\n",
       "       [ 4.34063085e-01],\n",
       "       [ 4.68566257e-01],\n",
       "       [ 5.92857597e-01],\n",
       "       [ 3.36359591e-01],\n",
       "       [-9.41761706e-01],\n",
       "       [-1.09682294e+00],\n",
       "       [ 1.06980036e+00],\n",
       "       [-2.94437722e-01],\n",
       "       [-1.23113975e+00],\n",
       "       [ 1.08506367e+00],\n",
       "       [-3.53225661e-02],\n",
       "       [ 5.94702429e-01],\n",
       "       [-9.96861452e-01],\n",
       "       [ 1.99908340e+00],\n",
       "       [ 1.23351903e+00],\n",
       "       [-4.16846134e-01],\n",
       "       [-8.66266202e-01],\n",
       "       [ 8.97113398e-01],\n",
       "       [ 4.33051025e-01],\n",
       "       [ 2.26243087e-01],\n",
       "       [ 1.99846108e+00],\n",
       "       [-2.67554289e+00],\n",
       "       [-4.01034675e-01],\n",
       "       [ 6.98409994e-01],\n",
       "       [ 4.08053565e-01],\n",
       "       [-1.05213067e+00],\n",
       "       [ 1.37490117e-01],\n",
       "       [-1.13098055e+00],\n",
       "       [ 8.48873048e-01],\n",
       "       [ 3.45211080e-01],\n",
       "       [-7.63903923e-01],\n",
       "       [-2.00583771e+00],\n",
       "       [-1.09044626e+00],\n",
       "       [ 1.14088045e+00],\n",
       "       [-1.58731110e+00],\n",
       "       [-4.58969763e-01],\n",
       "       [ 2.81282024e-01],\n",
       "       [-1.08507723e+00],\n",
       "       [-7.35907199e-01],\n",
       "       [-1.58067808e+00],\n",
       "       [ 3.45352423e-01],\n",
       "       [ 5.44162805e-01],\n",
       "       [ 3.96177378e-01],\n",
       "       [ 4.66694653e-01],\n",
       "       [-1.30793677e-01],\n",
       "       [ 1.09697382e+00],\n",
       "       [ 9.73481558e-01],\n",
       "       [ 3.68111622e-02],\n",
       "       [-6.27285948e-01],\n",
       "       [-1.07517699e+00],\n",
       "       [ 1.61217386e-01],\n",
       "       [ 1.69658980e-01],\n",
       "       [ 6.90395614e-01],\n",
       "       [ 2.12886740e+00],\n",
       "       [-5.84936985e-01],\n",
       "       [-3.97535243e-01],\n",
       "       [ 1.11281862e+00],\n",
       "       [ 3.65484381e-01],\n",
       "       [-8.03814177e-02],\n",
       "       [ 1.27193494e+00],\n",
       "       [-4.38426533e-02],\n",
       "       [-1.26423716e+00],\n",
       "       [-1.06820745e+00],\n",
       "       [ 6.22923673e-01],\n",
       "       [ 7.74088136e-01],\n",
       "       [ 1.56992171e-01],\n",
       "       [-4.15932740e-01],\n",
       "       [-3.26786494e-01],\n",
       "       [ 5.21422828e-01],\n",
       "       [ 8.20668984e-01],\n",
       "       [-4.00494551e-01],\n",
       "       [-1.44476331e+00],\n",
       "       [-6.75272555e-01],\n",
       "       [-7.09302463e-01],\n",
       "       [-1.72530051e+00],\n",
       "       [-3.04756256e-02],\n",
       "       [ 7.69291054e-01],\n",
       "       [ 7.67838786e-01],\n",
       "       [ 6.80849370e-01],\n",
       "       [ 4.61897571e-01],\n",
       "       [-1.44476331e+00],\n",
       "       [-5.89942010e-01],\n",
       "       [ 4.67873751e-01],\n",
       "       [-2.50245169e-01],\n",
       "       [ 9.46278220e-01],\n",
       "       [-8.92866470e-01],\n",
       "       [-1.63799906e+00],\n",
       "       [ 9.49230469e-01],\n",
       "       [ 2.84910406e-01],\n",
       "       [ 1.82296001e-03],\n",
       "       [-9.17283543e-01],\n",
       "       [-1.29583740e+00],\n",
       "       [-4.39651875e-01],\n",
       "       [ 3.37511762e-01],\n",
       "       [ 3.67005667e-01],\n",
       "       [ 1.05490317e+00],\n",
       "       [ 1.12720322e-01],\n",
       "       [ 7.74088136e-01],\n",
       "       [ 9.89230686e-01],\n",
       "       [-5.40349677e-01],\n",
       "       [ 2.58356059e-01],\n",
       "       [-1.41533209e+00],\n",
       "       [ 1.57792297e-01],\n",
       "       [ 4.40812596e-01],\n",
       "       [-7.41406873e-01],\n",
       "       [ 2.44506339e-01],\n",
       "       [-2.04825560e-01],\n",
       "       [ 1.57792297e-01],\n",
       "       [ 1.03357669e+00],\n",
       "       [ 4.24394483e-01],\n",
       "       [-6.23645569e-01],\n",
       "       [-5.40885875e-01],\n",
       "       [ 1.20288410e+00],\n",
       "       [ 9.96563170e-01],\n",
       "       [-9.52073283e-01],\n",
       "       [ 9.72835923e-01],\n",
       "       [-1.58731110e+00],\n",
       "       [-1.94249710e-01],\n",
       "       [ 5.47587894e-01],\n",
       "       [ 8.33900525e-01],\n",
       "       [ 4.09621082e-01],\n",
       "       [ 3.32731619e-01],\n",
       "       [-8.75530445e-01],\n",
       "       [ 6.46496234e-01],\n",
       "       [ 1.41115574e+00],\n",
       "       [ 4.57992876e-01],\n",
       "       [-2.52562622e-01],\n",
       "       [ 7.43417363e-01],\n",
       "       [ 4.93672763e-01],\n",
       "       [ 3.23737396e-01],\n",
       "       [ 6.76716192e-01],\n",
       "       [ 3.30390945e-01],\n",
       "       [ 8.05601606e-01],\n",
       "       [-8.02846893e-01],\n",
       "       [ 1.18833075e-01],\n",
       "       [ 7.22374915e-01],\n",
       "       [ 4.43647226e-01],\n",
       "       [ 2.21479494e-01],\n",
       "       [-3.17394270e-01],\n",
       "       [-3.11771284e-01],\n",
       "       [-1.11736691e-01],\n",
       "       [ 1.57792297e-01],\n",
       "       [-1.11586088e-01],\n",
       "       [-1.01902895e-01],\n",
       "       [-3.49536691e-01],\n",
       "       [-2.83979037e-01],\n",
       "       [ 4.63370331e-01],\n",
       "       [ 2.84572564e-01],\n",
       "       [-1.63799906e+00],\n",
       "       [ 6.39706453e-01],\n",
       "       [ 1.56889161e+00],\n",
       "       [ 5.45387749e-01],\n",
       "       [ 2.46436315e-02],\n",
       "       [-2.27532826e-02],\n",
       "       [ 7.50151709e-01]])"
      ]
     },
     "execution_count": 11,
     "metadata": {},
     "output_type": "execute_result"
    }
   ],
   "source": [
    "y_pred=model.predict(X_test)\n",
    "y_pred"
   ]
  },
  {
   "cell_type": "markdown",
   "metadata": {},
   "source": [
    "# Model Performance"
   ]
  },
  {
   "cell_type": "code",
   "execution_count": 12,
   "metadata": {},
   "outputs": [
    {
     "name": "stdout",
     "output_type": "stream",
     "text": [
      "Mean squared error (MSE): 0.22750526771752014\n",
      "R Squared: 0.7705650058569231\n"
     ]
    }
   ],
   "source": [
    "print('Mean squared error (MSE): '+ str(mean_squared_error(y_test, y_pred)))\n",
    "print('R Squared: ' + str(r2_score(y_test, y_pred)))"
   ]
  },
  {
   "cell_type": "markdown",
   "metadata": {},
   "source": [
    "# Data Visualization"
   ]
  },
  {
   "cell_type": "code",
   "execution_count": 13,
   "metadata": {},
   "outputs": [
    {
     "data": {
      "image/png": "[encoded data removed]",
      "text/plain": [
       "<Figure size 360x360 with 1 Axes>"
      ]
     },
     "metadata": {
      "needs_background": "light"
     },
     "output_type": "display_data"
    }
   ],
   "source": [
    "plt.figure(figsize=(5,5))\n",
    "plt.scatter(x=y_test,y=y_pred,c=\"#7CAE00\",alpha=0.3)\n",
    "plt.ylabel('Predicted LogS')\n",
    "plt.xlabel('Experimental LogS')\n",
    "plt.show()"
   ]
  },
  {
   "cell_type": "markdown",
   "metadata": {},
   "source": [
    "# Save the Model"
   ]
  },
  {
   "cell_type": "code",
   "execution_count": 14,
   "metadata": {},
   "outputs": [],
   "source": [
    "pickle.dump(model,open('solubility_model.pkl','wb'))"
   ]
  }
 ],
 "metadata": {
  "kernelspec": {
   "display_name": "Python 3",
   "language": "python",
   "name": "python3"
  },
  "language_info": {
   "codemirror_mode": {
    "name": "ipython",
    "version": 3
   },
   "file_extension": ".py",
   "mimetype": "text/x-python",
   "name": "python",
   "nbconvert_exporter": "python",
   "pygments_lexer": "ipython3",
   "version": "3.6.8"
  }
 },
 "nbformat": 4,
 "nbformat_minor": 4
}
